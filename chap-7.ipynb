{
 "cells": [
  {
   "cell_type": "code",
   "execution_count": 1,
   "id": "9b5c484b",
   "metadata": {},
   "outputs": [
    {
     "name": "stdout",
     "output_type": "stream",
     "text": [
      "Most common word is \" you \" and it is used for 54 times\n"
     ]
    }
   ],
   "source": [
    "# Program to count most common word from a text file\n",
    "\n",
    "name = r\"F:\\UAF IT\\5th Smester\\Artificial Intelligence\\random.txt\"\n",
    "handle = open(name)\n",
    "text = handle.read()\n",
    "words = text.split()\n",
    "count = dict()\n",
    "for word in words:\n",
    "    count[word] = count.get(word, 0) + 1\n",
    "\n",
    "maxWord = \"\"\n",
    "maxCount = 0\n",
    "for word in count:\n",
    "    if int(count[word]) > maxCount:\n",
    "        maxCount = count[word]\n",
    "        maxWord = word\n",
    "print('Most common word is \"', maxWord, '\" and it is used for', maxCount, \"times\")"
   ]
  },
  {
   "cell_type": "code",
   "execution_count": 2,
   "id": "94c56f9e",
   "metadata": {},
   "outputs": [
    {
     "name": "stdout",
     "output_type": "stream",
     "text": [
      "Video provides a powerful way to help you prove your point. When you click Online Video, you can paste in the embed code for the video you want to add. You can also type a keyword to search online for the video that best fits your document. To make your document look professionally produced, Word provides header, footer, cover page, and text box designs that complement each other. For example, you can add a matching cover page, header, and sidebar. Click Insert and then choose the elements you want from the different galleries. Themes and styles also help keep your document coordinated. When you click Design and choose a new Theme, the pictures, charts, and SmartArt graphics change to match your new theme.\n",
      "\n"
     ]
    }
   ],
   "source": [
    "# Read specific line from file\n",
    "\n",
    "line_number = 1\n",
    "file_path = r\"F:\\UAF IT\\5th Smester\\Artificial Intelligence\\random.txt\"\n",
    "\n",
    "try:\n",
    "    with open(file_path, \"r\") as fo:\n",
    "        currentline = 1\n",
    "        for line in fo:\n",
    "            if currentline == line_number:\n",
    "                print(line)\n",
    "                break\n",
    "            currentline += 1\n",
    "except FileNotFoundError:\n",
    "    print(f\"File not found at: {file_path}\")"
   ]
  },
  {
   "cell_type": "code",
   "execution_count": null,
   "id": "fbf2cb85",
   "metadata": {},
   "outputs": [],
   "source": []
  }
 ],
 "metadata": {
  "kernelspec": {
   "display_name": "Python 3 (ipykernel)",
   "language": "python",
   "name": "python3"
  },
  "language_info": {
   "codemirror_mode": {
    "name": "ipython",
    "version": 3
   },
   "file_extension": ".py",
   "mimetype": "text/x-python",
   "name": "python",
   "nbconvert_exporter": "python",
   "pygments_lexer": "ipython3",
   "version": "3.11.4"
  }
 },
 "nbformat": 4,
 "nbformat_minor": 5
}
