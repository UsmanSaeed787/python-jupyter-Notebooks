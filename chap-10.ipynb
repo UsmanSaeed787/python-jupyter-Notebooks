{
 "cells": [
  {
   "cell_type": "code",
   "execution_count": 1,
   "id": "c974c83d",
   "metadata": {},
   "outputs": [
    {
     "name": "stdout",
     "output_type": "stream",
     "text": [
      "('Toyota', 'Honda', 'Suzuki')\n"
     ]
    }
   ],
   "source": [
    "cars = (\"Toyota\", \"Honda\", \"Suzuki\")\n",
    "print(cars)"
   ]
  },
  {
   "cell_type": "code",
   "execution_count": 2,
   "id": "21c89340",
   "metadata": {},
   "outputs": [
    {
     "data": {
      "text/plain": [
       "3"
      ]
     },
     "execution_count": 2,
     "metadata": {},
     "output_type": "execute_result"
    }
   ],
   "source": [
    "len(cars)"
   ]
  },
  {
   "cell_type": "code",
   "execution_count": 3,
   "id": "ac3595a1",
   "metadata": {},
   "outputs": [
    {
     "name": "stdout",
     "output_type": "stream",
     "text": [
      "('Person', 34, True, 40, 'male')\n",
      "(True, 40)\n"
     ]
    }
   ],
   "source": [
    "tuple1 = (\"Person\", 34, True, 40, \"male\")\n",
    "print(tuple1)\n",
    "print(tuple1[2:4])"
   ]
  },
  {
   "cell_type": "code",
   "execution_count": 4,
   "id": "5b15792f",
   "metadata": {},
   "outputs": [
    {
     "name": "stdout",
     "output_type": "stream",
     "text": [
      "YES\n"
     ]
    }
   ],
   "source": [
    "if 40 in tuple1:\n",
    "    print('YES')"
   ]
  },
  {
   "cell_type": "code",
   "execution_count": 5,
   "id": "f01e85f2",
   "metadata": {},
   "outputs": [
    {
     "name": "stdout",
     "output_type": "stream",
     "text": [
      "('Person', 34, True, 40, 'male')\n"
     ]
    }
   ],
   "source": [
    "print(tuple1)"
   ]
  },
  {
   "cell_type": "code",
   "execution_count": 6,
   "id": "a7beb17c",
   "metadata": {},
   "outputs": [
    {
     "name": "stdout",
     "output_type": "stream",
     "text": [
      "('Person', 34, True, 40, 'male')\n",
      "('Person', 35, True, 40, 'male')\n"
     ]
    }
   ],
   "source": [
    "print(tuple1)\n",
    "x = list(tuple1)\n",
    "x[1] = 35\n",
    "tuple1 = tuple(x)\n",
    "\n",
    "print(tuple1)"
   ]
  },
  {
   "cell_type": "code",
   "execution_count": 7,
   "id": "eedffda9",
   "metadata": {},
   "outputs": [
    {
     "name": "stdout",
     "output_type": "stream",
     "text": [
      "('Person', 35, True, 40, 'male', 'Hello')\n"
     ]
    }
   ],
   "source": [
    "tuple1 += ('Hello',)\n",
    "print(tuple1)"
   ]
  },
  {
   "cell_type": "code",
   "execution_count": 8,
   "id": "e4caf604",
   "metadata": {},
   "outputs": [
    {
     "name": "stdout",
     "output_type": "stream",
     "text": [
      "('Person', 35, True, 40, 'male', 'Hello')\n",
      "Person 35 True 40 male Hello\n"
     ]
    }
   ],
   "source": [
    "print(tuple1)\n",
    "(alpha,num,boool,num2,gender,text) = tuple1\n",
    "print(alpha,num,boool,num2,gender,text)"
   ]
  },
  {
   "cell_type": "code",
   "execution_count": null,
   "id": "cdcd8c22",
   "metadata": {},
   "outputs": [],
   "source": []
  }
 ],
 "metadata": {
  "kernelspec": {
   "display_name": "Python 3 (ipykernel)",
   "language": "python",
   "name": "python3"
  },
  "language_info": {
   "codemirror_mode": {
    "name": "ipython",
    "version": 3
   },
   "file_extension": ".py",
   "mimetype": "text/x-python",
   "name": "python",
   "nbconvert_exporter": "python",
   "pygments_lexer": "ipython3",
   "version": "3.11.4"
  }
 },
 "nbformat": 4,
 "nbformat_minor": 5
}
