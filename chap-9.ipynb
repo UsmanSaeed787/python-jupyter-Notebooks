{
 "cells": [
  {
   "cell_type": "code",
   "execution_count": 1,
   "id": "93b95563",
   "metadata": {},
   "outputs": [
    {
     "name": "stdout",
     "output_type": "stream",
     "text": [
      "{'Video': 4, 'provides': 8, 'a': 33, 'powerful': 4, 'way': 8, 'to': 30, 'help': 8, 'you': 54, 'prove': 4, 'your': 28, 'point.': 4, 'When': 15, 'click': 18, 'Online': 4, 'Video,': 4, 'can': 15, 'paste': 4, 'in': 15, 'the': 47, 'embed': 4, 'code': 4, 'for': 12, 'video': 8, 'want': 11, 'add.': 4, 'You': 7, 'also': 8, 'type': 4, 'keyword': 4, 'search': 4, 'online': 4, 'that': 12, 'best': 4, 'fits': 8, 'document.': 4, 'To': 8, 'make': 4, 'document': 11, 'look': 4, 'professionally': 4, 'produced,': 4, 'Word': 11, 'header,': 8, 'footer,': 4, 'cover': 8, 'page,': 8, 'and': 34, 'text': 7, 'box': 4, 'designs': 4, 'complement': 4, 'each': 4, 'other.': 4, 'For': 4, 'example,': 4, 'add': 7, 'matching': 4, 'sidebar.': 4, 'Click': 4, 'Insert': 4, 'then': 7, 'choose': 8, 'elements': 4, 'from': 4, 'different': 4, 'galleries.': 4, 'Themes': 4, 'styles': 4, 'keep': 4, 'coordinated.': 4, 'Design': 4, 'new': 19, 'Theme,': 4, 'pictures,': 4, 'charts,': 4, 'SmartArt': 4, 'graphics': 4, 'change': 12, 'match': 8, 'theme.': 8, 'apply': 4, 'styles,': 4, 'headings': 4, 'Save': 4, 'time': 4, 'with': 4, 'buttons': 4, 'show': 4, 'up': 4, 'where': 10, 'need': 7, 'them.': 4, 'picture': 4, 'document,': 4, 'it': 4, 'button': 4, 'layout': 4, 'options': 4, 'appears': 4, 'next': 4, 'it.': 4, 'work': 3, 'on': 9, 'table,': 3, 'row': 3, 'or': 3, 'column,': 3, 'plus': 3, 'sign.': 3, 'Reading': 6, 'is': 3, 'easier,': 3, 'too,': 3, 'view.': 3, 'collapse': 3, 'parts': 3, 'of': 3, 'focus': 3, 'want.': 3, 'If': 3, 'stop': 3, 'reading': 3, 'before': 3, 'reach': 3, 'end,': 3, 'remembers': 3, 'left': 3, 'off': 3, '-': 3, 'even': 3, 'another': 3, 'device.': 3}\n"
     ]
    }
   ],
   "source": [
    "# Couting all the words in a text file\n",
    "\n",
    "name = r\"F:\\UAF IT\\5th Smester\\Artificial Intelligence\\random.txt\"\n",
    "handle = open(name)\n",
    "text = handle.read()\n",
    "words = text.split()\n",
    "count = dict()\n",
    "for word in words:\n",
    "    count[word] = count.get(word, 0) + 1\n",
    "print(count)"
   ]
  },
  {
   "cell_type": "code",
   "execution_count": 2,
   "id": "d7232b40",
   "metadata": {},
   "outputs": [
    {
     "name": "stdout",
     "output_type": "stream",
     "text": [
      "Most common word is \" you \" and it is used for 54 times\n"
     ]
    }
   ],
   "source": [
    "# Counting most common word using dictionery\n",
    "\n",
    "maxWord = \"\"\n",
    "maxCount = 0\n",
    "for word in count:\n",
    "    if int(count[word]) > maxCount:\n",
    "        maxCount = count[word]\n",
    "        maxWord = word\n",
    "print('Most common word is \"', maxWord, '\" and it is used for', maxCount, \"times\")"
   ]
  },
  {
   "cell_type": "code",
   "execution_count": null,
   "id": "a760c44e",
   "metadata": {},
   "outputs": [],
   "source": []
  }
 ],
 "metadata": {
  "kernelspec": {
   "display_name": "Python 3 (ipykernel)",
   "language": "python",
   "name": "python3"
  },
  "language_info": {
   "codemirror_mode": {
    "name": "ipython",
    "version": 3
   },
   "file_extension": ".py",
   "mimetype": "text/x-python",
   "name": "python",
   "nbconvert_exporter": "python",
   "pygments_lexer": "ipython3",
   "version": "3.11.4"
  }
 },
 "nbformat": 4,
 "nbformat_minor": 5
}
